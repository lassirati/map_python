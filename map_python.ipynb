{
 "cells": [
  {
   "cell_type": "code",
   "execution_count": 1,
   "id": "9d1a1188-7722-4152-a813-c9e7f3bd0ad0",
   "metadata": {},
   "outputs": [],
   "source": [
    "### aprendendo uso do map\n",
    "\n",
    "## map: aplica uma funcao a cada item de uma lista"
   ]
  },
  {
   "cell_type": "code",
   "execution_count": 2,
   "id": "3004a413-ea29-4a9c-971b-223f78a71787",
   "metadata": {},
   "outputs": [],
   "source": [
    "precos = [1000,1500,1250,2500]\n",
    "\n",
    "def adicionar_imposto(preco):\n",
    "    return preco*1.1"
   ]
  },
  {
   "cell_type": "code",
   "execution_count": 3,
   "id": "22616792-5805-4c14-84f8-ca841aa9a057",
   "metadata": {},
   "outputs": [
    {
     "data": {
      "text/plain": [
       "[1100.0, 1650.0000000000002, 1375.0, 2750.0]"
      ]
     },
     "execution_count": 3,
     "metadata": {},
     "output_type": "execute_result"
    }
   ],
   "source": [
    "## jeito manual, usando loop for\n",
    "\n",
    "\n",
    "precos_com_imposto = []\n",
    "for preco in precos:\n",
    "    precos_com_imposto.append(adicionar_imposto(preco))\n",
    "    \n",
    "precos_com_imposto    "
   ]
  },
  {
   "cell_type": "code",
   "execution_count": 4,
   "id": "6f115036-a08a-4085-9fd1-d4d76be89df8",
   "metadata": {},
   "outputs": [
    {
     "data": {
      "text/plain": [
       "[1100.0, 1650.0000000000002, 1375.0, 2750.0]"
      ]
     },
     "execution_count": 4,
     "metadata": {},
     "output_type": "execute_result"
    }
   ],
   "source": [
    "### usando o map --> deve-se passar a func e qual a lista que a func vai ser aplicada\n",
    "\n",
    "\n",
    "precos_com_imposto2 = list(map(adicionar_imposto, precos))\n",
    "precos_com_imposto2"
   ]
  },
  {
   "cell_type": "code",
   "execution_count": 5,
   "id": "b44d5852-5e68-4156-9b69-5ec6ef8fb625",
   "metadata": {},
   "outputs": [],
   "source": [
    "###### outro exemplo #######"
   ]
  },
  {
   "cell_type": "code",
   "execution_count": 6,
   "id": "2b35818c-d1f4-4895-ae6d-8c4684fd89fc",
   "metadata": {},
   "outputs": [],
   "source": [
    "import pandas as pd"
   ]
  },
  {
   "cell_type": "code",
   "execution_count": 7,
   "id": "12ef4715-1485-41ea-9320-2e99e94caa8b",
   "metadata": {},
   "outputs": [
    {
     "data": {
      "text/html": [
       "<div>\n",
       "<style scoped>\n",
       "    .dataframe tbody tr th:only-of-type {\n",
       "        vertical-align: middle;\n",
       "    }\n",
       "\n",
       "    .dataframe tbody tr th {\n",
       "        vertical-align: top;\n",
       "    }\n",
       "\n",
       "    .dataframe thead th {\n",
       "        text-align: right;\n",
       "    }\n",
       "</style>\n",
       "<table border=\"1\" class=\"dataframe\">\n",
       "  <thead>\n",
       "    <tr style=\"text-align: right;\">\n",
       "      <th></th>\n",
       "      <th>produto</th>\n",
       "      <th>valor</th>\n",
       "    </tr>\n",
       "  </thead>\n",
       "  <tbody>\n",
       "    <tr>\n",
       "      <th>0</th>\n",
       "      <td>tv</td>\n",
       "      <td>1000</td>\n",
       "    </tr>\n",
       "    <tr>\n",
       "      <th>1</th>\n",
       "      <td>telefone</td>\n",
       "      <td>500</td>\n",
       "    </tr>\n",
       "    <tr>\n",
       "      <th>2</th>\n",
       "      <td>radio</td>\n",
       "      <td>200</td>\n",
       "    </tr>\n",
       "  </tbody>\n",
       "</table>\n",
       "</div>"
      ],
      "text/plain": [
       "    produto  valor\n",
       "0        tv   1000\n",
       "1  telefone    500\n",
       "2     radio    200"
      ]
     },
     "execution_count": 7,
     "metadata": {},
     "output_type": "execute_result"
    }
   ],
   "source": [
    "tabela = pd.read_csv('dados.txt')\n",
    "tabela"
   ]
  },
  {
   "cell_type": "code",
   "execution_count": 8,
   "id": "dde80cf0-fc2a-459b-9cbf-dd69c3efb74e",
   "metadata": {},
   "outputs": [
    {
     "data": {
      "text/html": [
       "<div>\n",
       "<style scoped>\n",
       "    .dataframe tbody tr th:only-of-type {\n",
       "        vertical-align: middle;\n",
       "    }\n",
       "\n",
       "    .dataframe tbody tr th {\n",
       "        vertical-align: top;\n",
       "    }\n",
       "\n",
       "    .dataframe thead th {\n",
       "        text-align: right;\n",
       "    }\n",
       "</style>\n",
       "<table border=\"1\" class=\"dataframe\">\n",
       "  <thead>\n",
       "    <tr style=\"text-align: right;\">\n",
       "      <th></th>\n",
       "      <th>produto</th>\n",
       "      <th>valor</th>\n",
       "      <th>preco_com_imposto</th>\n",
       "    </tr>\n",
       "  </thead>\n",
       "  <tbody>\n",
       "    <tr>\n",
       "      <th>0</th>\n",
       "      <td>tv</td>\n",
       "      <td>1000</td>\n",
       "      <td>1100.0</td>\n",
       "    </tr>\n",
       "    <tr>\n",
       "      <th>1</th>\n",
       "      <td>telefone</td>\n",
       "      <td>500</td>\n",
       "      <td>550.0</td>\n",
       "    </tr>\n",
       "    <tr>\n",
       "      <th>2</th>\n",
       "      <td>radio</td>\n",
       "      <td>200</td>\n",
       "      <td>220.0</td>\n",
       "    </tr>\n",
       "  </tbody>\n",
       "</table>\n",
       "</div>"
      ],
      "text/plain": [
       "    produto  valor  preco_com_imposto\n",
       "0        tv   1000             1100.0\n",
       "1  telefone    500              550.0\n",
       "2     radio    200              220.0"
      ]
     },
     "execution_count": 8,
     "metadata": {},
     "output_type": "execute_result"
    }
   ],
   "source": [
    "#### aplicando o map para criar uma nova coluna com o imposto\n",
    "\n",
    "tabela['preco_com_imposto'] = list(map(adicionar_imposto, tabela.valor))\n",
    "tabela"
   ]
  },
  {
   "cell_type": "code",
   "execution_count": 9,
   "id": "b15b10e1-7706-4e69-b517-233f46803229",
   "metadata": {},
   "outputs": [],
   "source": [
    "## caso precise exportar a saida\n",
    "tabela.to_excel('saida.xlsx')"
   ]
  },
  {
   "cell_type": "code",
   "execution_count": 10,
   "id": "d39dc68d-402a-4a8f-bcaa-2b8548e2178c",
   "metadata": {},
   "outputs": [],
   "source": [
    "#### aplicando categorias de um dicionario via map"
   ]
  },
  {
   "cell_type": "code",
   "execution_count": 11,
   "id": "9651541b-3914-4cdc-acd8-92a22526c268",
   "metadata": {},
   "outputs": [
    {
     "data": {
      "text/plain": [
       "{'tv': 'nacional', 'telefone': 'importado'}"
      ]
     },
     "execution_count": 11,
     "metadata": {},
     "output_type": "execute_result"
    }
   ],
   "source": [
    "dict_categorias = {\n",
    " 'tv': 'nacional',\n",
    " 'telefone': 'importado'\n",
    "}\n",
    "\n",
    "dict_categorias"
   ]
  },
  {
   "cell_type": "code",
   "execution_count": 12,
   "id": "b557cc80-ced8-4a36-ac80-8dbcf258161b",
   "metadata": {},
   "outputs": [
    {
     "data": {
      "text/html": [
       "<div>\n",
       "<style scoped>\n",
       "    .dataframe tbody tr th:only-of-type {\n",
       "        vertical-align: middle;\n",
       "    }\n",
       "\n",
       "    .dataframe tbody tr th {\n",
       "        vertical-align: top;\n",
       "    }\n",
       "\n",
       "    .dataframe thead th {\n",
       "        text-align: right;\n",
       "    }\n",
       "</style>\n",
       "<table border=\"1\" class=\"dataframe\">\n",
       "  <thead>\n",
       "    <tr style=\"text-align: right;\">\n",
       "      <th></th>\n",
       "      <th>produto</th>\n",
       "      <th>valor</th>\n",
       "      <th>preco_com_imposto</th>\n",
       "      <th>categoria</th>\n",
       "    </tr>\n",
       "  </thead>\n",
       "  <tbody>\n",
       "    <tr>\n",
       "      <th>0</th>\n",
       "      <td>tv</td>\n",
       "      <td>1000</td>\n",
       "      <td>1100.0</td>\n",
       "      <td>nacional</td>\n",
       "    </tr>\n",
       "    <tr>\n",
       "      <th>1</th>\n",
       "      <td>telefone</td>\n",
       "      <td>500</td>\n",
       "      <td>550.0</td>\n",
       "      <td>importado</td>\n",
       "    </tr>\n",
       "    <tr>\n",
       "      <th>2</th>\n",
       "      <td>radio</td>\n",
       "      <td>200</td>\n",
       "      <td>220.0</td>\n",
       "      <td>nao_categorizado</td>\n",
       "    </tr>\n",
       "  </tbody>\n",
       "</table>\n",
       "</div>"
      ],
      "text/plain": [
       "    produto  valor  preco_com_imposto         categoria\n",
       "0        tv   1000             1100.0          nacional\n",
       "1  telefone    500              550.0         importado\n",
       "2     radio    200              220.0  nao_categorizado"
      ]
     },
     "execution_count": 12,
     "metadata": {},
     "output_type": "execute_result"
    }
   ],
   "source": [
    "## cria uma nova coluna com a categoria, e caso nao esteja no dicionario gera uma alternativa extra\n",
    "tabela['categoria'] = tabela.produto.map(dict_categorias).fillna('nao_categorizado')\n",
    "tabela"
   ]
  },
  {
   "cell_type": "code",
   "execution_count": null,
   "id": "99c0cf8e-6a89-4d50-b06a-0c65a3205fdf",
   "metadata": {},
   "outputs": [],
   "source": []
  }
 ],
 "metadata": {
  "kernelspec": {
   "display_name": "Python 3 (ipykernel)",
   "language": "python",
   "name": "python3"
  },
  "language_info": {
   "codemirror_mode": {
    "name": "ipython",
    "version": 3
   },
   "file_extension": ".py",
   "mimetype": "text/x-python",
   "name": "python",
   "nbconvert_exporter": "python",
   "pygments_lexer": "ipython3",
   "version": "3.10.2"
  }
 },
 "nbformat": 4,
 "nbformat_minor": 5
}
